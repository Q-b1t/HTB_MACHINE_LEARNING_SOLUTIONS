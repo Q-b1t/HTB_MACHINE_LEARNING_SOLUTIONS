{
  "nbformat": 4,
  "nbformat_minor": 0,
  "metadata": {
    "colab": {
      "provenance": []
    },
    "kernelspec": {
      "name": "python3",
      "display_name": "Python 3"
    },
    "language_info": {
      "name": "python"
    }
  },
  "cells": [
    {
      "cell_type": "code",
      "execution_count": 1,
      "metadata": {
        "id": "cdMjreGeYVdn"
      },
      "outputs": [],
      "source": [
        "try:\n",
        "  from torchinfo import summary\n",
        "except:\n",
        "  !pip install torchinfo\n",
        "  from torchinfo import summary\n",
        "\n",
        "import os\n",
        "from pathlib import Path\n",
        "import requests\n",
        "\n",
        "import random\n",
        "\n",
        "import numpy as np\n",
        "import matplotlib.pyplot as plt\n",
        "import matplotlib\n",
        "\n",
        "import torch\n",
        "from torch.utils.data import Dataset\n",
        "from torch.utils.data import DataLoader\n",
        "from tqdm.auto import tqdm"
      ]
    },
    {
      "cell_type": "code",
      "source": [
        "# import modules\n",
        "directory = Path(\"modules\")\n",
        "\n",
        "if not os.path.exists(directory):\n",
        "  os.makedirs(directory)\n",
        "\n",
        "download_modules = {\n",
        "    \"bigram_model.py\":\"https://raw.githubusercontent.com/Q-b1t/htbml/main/ML_ON_THE_RESCUE/architecture.py\",\n",
        "    \"bigram_model.pt\":\"https://github.com/Q-b1t/htbml/raw/main/ML_ON_THE_RESCUE/bigram_model.pt\",\n",
        "}\n",
        "\n",
        "file_paths = dict()\n",
        "\n",
        "for module,raw in download_modules.items():\n",
        "  module_path = directory / module\n",
        "  file_paths[module] = module_path  \n",
        "  if(module_path.exists()):\n",
        "    print(f\"[INFO]: Module: {module_path} already exists. Skipping...\")\n",
        "  else:\n",
        "    print(f\"[INFO]: Downloading {module}\")\n",
        "    request = requests.get(raw)\n",
        "    with open(module_path,\"wb\") as f:\n",
        "      f.write(request.content)\n",
        "\n"
      ],
      "metadata": {
        "id": "rohJfi0AaV0S",
        "colab": {
          "base_uri": "https://localhost:8080/"
        },
        "outputId": "e4fe6dfc-f761-41ec-bcdd-40514a85d17c"
      },
      "execution_count": 2,
      "outputs": [
        {
          "output_type": "stream",
          "name": "stdout",
          "text": [
            "[INFO]: Module: modules/bigram_model.py already exists. Skipping...\n",
            "[INFO]: Module: modules/bigram_model.pt already exists. Skipping...\n"
          ]
        }
      ]
    },
    {
      "cell_type": "code",
      "source": [
        "# import the model\n",
        "from modules.bigram_model import BigramLanguageModel, vocab"
      ],
      "metadata": {
        "id": "0V1H4spjaxpO"
      },
      "execution_count": 3,
      "outputs": []
    },
    {
      "cell_type": "code",
      "source": [
        "model_weights = file_paths[\"bigram_model.pt\"]"
      ],
      "metadata": {
        "id": "BY4KGx6YbAuJ"
      },
      "execution_count": 4,
      "outputs": []
    },
    {
      "cell_type": "code",
      "source": [
        "vocabulary = vocab\n",
        "vocab_size = len(vocabulary)"
      ],
      "metadata": {
        "id": "7oEhW0wmdDpn"
      },
      "execution_count": 5,
      "outputs": []
    },
    {
      "cell_type": "code",
      "source": [
        "# instance the model\n",
        "bigram_architecture = BigramLanguageModel(vocab_size)\n",
        "bigram_architecture.load_state_dict(torch.load(f = model_weights))"
      ],
      "metadata": {
        "id": "tqi975Qja9C5",
        "colab": {
          "base_uri": "https://localhost:8080/"
        },
        "outputId": "7102128b-bf6b-4cae-8dde-8d9707249ded"
      },
      "execution_count": 6,
      "outputs": [
        {
          "output_type": "execute_result",
          "data": {
            "text/plain": [
              "<All keys matched successfully>"
            ]
          },
          "metadata": {},
          "execution_count": 6
        }
      ]
    },
    {
      "cell_type": "code",
      "source": [
        "bigram_architecture"
      ],
      "metadata": {
        "colab": {
          "base_uri": "https://localhost:8080/"
        },
        "id": "8BFWgUuuO1MZ",
        "outputId": "62039de9-6b2b-4e41-b3f5-a550a146dfb4"
      },
      "execution_count": 7,
      "outputs": [
        {
          "output_type": "execute_result",
          "data": {
            "text/plain": [
              "BigramLanguageModel(\n",
              "  (token_embedding_table): Embedding(93, 93)\n",
              ")"
            ]
          },
          "metadata": {},
          "execution_count": 7
        }
      ]
    },
    {
      "cell_type": "code",
      "source": [
        "summary(bigram_architecture)"
      ],
      "metadata": {
        "id": "Obsy8QB5cgdi",
        "colab": {
          "base_uri": "https://localhost:8080/"
        },
        "outputId": "0e72590b-41c8-4f3c-c1a7-66c11035a2da"
      },
      "execution_count": 8,
      "outputs": [
        {
          "output_type": "execute_result",
          "data": {
            "text/plain": [
              "=================================================================\n",
              "Layer (type:depth-idx)                   Param #\n",
              "=================================================================\n",
              "BigramLanguageModel                      --\n",
              "├─Embedding: 1-1                         8,649\n",
              "=================================================================\n",
              "Total params: 8,649\n",
              "Trainable params: 8,649\n",
              "Non-trainable params: 0\n",
              "================================================================="
            ]
          },
          "metadata": {},
          "execution_count": 8
        }
      ]
    },
    {
      "cell_type": "code",
      "source": [
        "vocab_dict = {token:idx for idx,token in enumerate(vocabulary)}"
      ],
      "metadata": {
        "id": "JNLBbkFSlavz"
      },
      "execution_count": 9,
      "outputs": []
    },
    {
      "cell_type": "code",
      "source": [
        "index_tensor = torch.tensor(list(vocab_dict.values()))"
      ],
      "metadata": {
        "id": "sQqz-rG5nO2L"
      },
      "execution_count": 10,
      "outputs": []
    },
    {
      "cell_type": "code",
      "source": [
        "logits = bigram_architecture(index_tensor)"
      ],
      "metadata": {
        "id": "pQVuZWLqeKCa"
      },
      "execution_count": 11,
      "outputs": []
    },
    {
      "cell_type": "code",
      "source": [
        "logits.shape"
      ],
      "metadata": {
        "id": "sQM7hoVrlptI",
        "colab": {
          "base_uri": "https://localhost:8080/"
        },
        "outputId": "c722cf87-62dc-47bb-c1e5-038138d9d60d"
      },
      "execution_count": 12,
      "outputs": [
        {
          "output_type": "execute_result",
          "data": {
            "text/plain": [
              "torch.Size([93, 93])"
            ]
          },
          "metadata": {},
          "execution_count": 12
        }
      ]
    },
    {
      "cell_type": "code",
      "source": [
        "logits_maleable = logits.detach().numpy()"
      ],
      "metadata": {
        "id": "hf2Kc3snn4Y0"
      },
      "execution_count": 13,
      "outputs": []
    },
    {
      "cell_type": "code",
      "source": [
        "plt.imshow(logits_maleable)"
      ],
      "metadata": {
        "id": "WvkEEeHun1eK",
        "colab": {
          "base_uri": "https://localhost:8080/",
          "height": 285
        },
        "outputId": "987347b7-c80f-45eb-b7f7-675394334803"
      },
      "execution_count": 14,
      "outputs": [
        {
          "output_type": "execute_result",
          "data": {
            "text/plain": [
              "<matplotlib.image.AxesImage at 0x7f2ceed92af0>"
            ]
          },
          "metadata": {},
          "execution_count": 14
        },
        {
          "output_type": "display_data",
          "data": {
            "text/plain": [
              "<Figure size 432x288 with 1 Axes>"
            ],
            "image/png": "[encoded data removed]"
          },
          "metadata": {
            "needs_background": "light"
          }
        }
      ]
    },
    {
      "cell_type": "code",
      "source": [
        "# Set the model to evaluation mode\n",
        "bigram_architecture.eval()\n",
        "\n",
        "# this is the flag\n",
        "text = \"\"\n",
        "\n",
        "# turn off grandient back propagation\n",
        "prev_token = random.choice(vocabulary)\n",
        "\n",
        "while len(text) < 50:\n",
        "    with torch.inference_mode():\n",
        "        input_tensor = torch.LongTensor([[vocabulary.index(prev_token)]])\n",
        "        output = bigram_architecture(input_tensor)\n",
        "        logits = output.squeeze()\n",
        "        probs = torch.softmax(logits, dim=-1)\n",
        "        prev_token = random.choices(vocabulary, weights=probs.tolist())[0]\n",
        "        text += prev_token\n"
      ],
      "metadata": {
        "id": "5ts72OFBl41m"
      },
      "execution_count": 15,
      "outputs": []
    },
    {
      "cell_type": "code",
      "source": [
        "text.split(\"\\n\")[1]"
      ],
      "metadata": {
        "colab": {
          "base_uri": "https://localhost:8080/",
          "height": 35
        },
        "id": "ul4jkXC2CfLw",
        "outputId": "542d3eaf-c795-4ce0-876b-0929622ba261"
      },
      "execution_count": 16,
      "outputs": [
        {
          "output_type": "execute_result",
          "data": {
            "text/plain": [
              "'HTB{Pr0t3c7_L1fe}'"
            ],
            "application/vnd.google.colaboratory.intrinsic+json": {
              "type": "string"
            }
          },
          "metadata": {},
          "execution_count": 16
        }
      ]
    }
  ]
}