{
  "cells": [
    {
      "cell_type": "code",
      "execution_count": 1,
      "metadata": {
        "id": "Acx-sOcBW4kT"
      },
      "outputs": [],
      "source": [
        "import numpy as np\n",
        "import matplotlib.pyplot as plt\n",
        "import matplotlib\n",
        "\n",
        "import torch\n",
        "from torch.utils.data import Dataset\n",
        "from torch.utils.data import DataLoader\n",
        "from tqdm.auto import tqdm\n",
        "\n",
        "from PIL import Image\n",
        "from torchvision import transforms\n",
        "\n",
        "import os\n",
        "import zipfile\n",
        "from pathlib import Path\n",
        "import requests\n",
        "import glob\n",
        "\n",
        "try:\n",
        "  from torchinfo import summary\n",
        "except:\n",
        "  !pip install torchinfo\n",
        "  from torchinfo import summary\n",
        "\n"
      ],
      "id": "Acx-sOcBW4kT"
    },
    {
      "cell_type": "markdown",
      "source": [
        "In preparation for your mission, you've been fitted with a new visual cortex chip that is able to recognize common objects on Earth. To verify it's working correctly, run through a diagnostic test to see if you can distinguish people from large man-made constructions."
      ],
      "metadata": {
        "id": "GaUbd4NEx6a8"
      },
      "id": "GaUbd4NEx6a8"
    },
    {
      "cell_type": "code",
      "source": [
        "# import modules\n",
        "directory = Path(\"modules\")\n",
        "\n",
        "if not os.path.exists(directory):\n",
        "  os.makedirs(directory)\n",
        "\n",
        "download_modules = {\n",
        "    \"vision_chip_model.py\":\"https://raw.githubusercontent.com/Q-b1t/RNN_EXP/main/vc_modules/model.py\",\n",
        "    \"meta\":\"https://github.com/Q-b1t/htbml/raw/main/VISION_CHIP/meta\",\n",
        "    \"state_dict.pt\":\"https://github.com/Q-b1t/htbml/raw/main/VISION_CHIP/state_dict.pt\"\n",
        "}\n",
        "\n",
        "file_paths = dict()\n",
        "\n",
        "for module,raw in download_modules.items():\n",
        "  module_path = directory / module\n",
        "  file_paths[module] = module_path  \n",
        "  if(module_path.exists()):\n",
        "    print(f\"[INFO]: Module: {module_path} already exists. Skipping...\")\n",
        "  else:\n",
        "    print(f\"[INFO]: Downloading {module}\")\n",
        "    request = requests.get(raw)\n",
        "    with open(module_path,\"wb\") as f:\n",
        "      f.write(request.content)"
      ],
      "metadata": {
        "colab": {
          "base_uri": "https://localhost:8080/"
        },
        "id": "i2_7_p04dlpj",
        "outputId": "fcc66255-13f4-45b5-c1e1-cdcdc59a3f6f"
      },
      "id": "i2_7_p04dlpj",
      "execution_count": 2,
      "outputs": [
        {
          "output_type": "stream",
          "name": "stdout",
          "text": [
            "[INFO]: Module: modules/vision_chip_model.py already exists. Skipping...\n",
            "[INFO]: Module: modules/meta already exists. Skipping...\n",
            "[INFO]: Module: modules/state_dict.pt already exists. Skipping...\n"
          ]
        }
      ]
    },
    {
      "cell_type": "code",
      "source": [
        "#from model import EarthVisionModel\n",
        "from modules.vision_chip_model import EarthVisionModel"
      ],
      "metadata": {
        "id": "njEkemixjj_g"
      },
      "id": "njEkemixjj_g",
      "execution_count": 3,
      "outputs": []
    },
    {
      "cell_type": "code",
      "source": [
        "# download test dataset\n",
        "\n",
        "# Setup path to data folder\n",
        "data_path = Path(\"data/\")\n",
        "image_path = data_path / \"x_test\"\n",
        "source = \"https://github.com/Q-b1t/RNN_EXP/raw/main/vc_modules/test_X.zip\"\n",
        "\n",
        "# If the image folder doesn't exist, download it and prepare it... \n",
        "if image_path.is_dir():\n",
        "    print(f\"[INFO] {image_path} directory exists, skipping download.\")\n",
        "else:\n",
        "    print(f\"[INFO] Did not find {image_path} directory, creating one...\")\n",
        "    image_path.mkdir(parents=True, exist_ok=True)\n",
        "    \n",
        "    # Download pizza, steak, sushi data\n",
        "    target_file = Path(source).name\n",
        "    with open(data_path / target_file, \"wb\") as f:\n",
        "        request = requests.get(source)\n",
        "        print(f\"[INFO] Downloading {target_file} from {source}...\")\n",
        "        f.write(request.content)\n",
        "\n",
        "    # Unzip pizza, steak, sushi data\n",
        "    with zipfile.ZipFile(data_path / target_file, \"r\") as zip_ref:\n",
        "        print(f\"[INFO] Unzipping {target_file} data...\") \n",
        "        zip_ref.extractall(image_path)\n",
        "\n",
        "    # Remove .zip file\n",
        "    os.remove(data_path / target_file)\n",
        "        "
      ],
      "metadata": {
        "colab": {
          "base_uri": "https://localhost:8080/"
        },
        "id": "LfpigI5JdnQd",
        "outputId": "30ec5369-6413-4f03-cd1a-c047a9c18814"
      },
      "id": "LfpigI5JdnQd",
      "execution_count": 4,
      "outputs": [
        {
          "output_type": "stream",
          "name": "stdout",
          "text": [
            "[INFO] data/x_test directory exists, skipping download.\n"
          ]
        }
      ]
    },
    {
      "cell_type": "code",
      "source": [
        "image_path"
      ],
      "metadata": {
        "colab": {
          "base_uri": "https://localhost:8080/"
        },
        "id": "R5gx6T5tiEk2",
        "outputId": "7d4ecda9-7279-4549-d8d1-8c1d307bf29f"
      },
      "id": "R5gx6T5tiEk2",
      "execution_count": 5,
      "outputs": [
        {
          "output_type": "execute_result",
          "data": {
            "text/plain": [
              "PosixPath('data/x_test')"
            ]
          },
          "metadata": {},
          "execution_count": 5
        }
      ]
    },
    {
      "cell_type": "code",
      "source": [
        "model_weights_path = file_paths[\"state_dict.pt\"]\n",
        "model_metadata_path = file_paths[\"meta\"]\n",
        "# model_metadata_path =  \"./meta\" -> local"
      ],
      "metadata": {
        "id": "E3D_86Aoe63b"
      },
      "id": "E3D_86Aoe63b",
      "execution_count": 6,
      "outputs": []
    },
    {
      "cell_type": "code",
      "execution_count": 7,
      "metadata": {
        "id": "78fqn_LRW4kY"
      },
      "outputs": [],
      "source": [
        "def unpickle(file):\n",
        "    import pickle\n",
        "    with open(file, 'rb') as fo:\n",
        "        _dict = pickle.load(fo, encoding='bytes')\n",
        "    return _dict\n",
        "\n",
        "label_meta = unpickle(model_metadata_path)"
      ],
      "id": "78fqn_LRW4kY"
    },
    {
      "cell_type": "code",
      "source": [
        "label_meta_keys = label_meta.keys()\n",
        "label_meta_values = label_meta.values()"
      ],
      "metadata": {
        "id": "_eAbis5ZfexV"
      },
      "id": "_eAbis5ZfexV",
      "execution_count": 8,
      "outputs": []
    },
    {
      "cell_type": "code",
      "source": [
        "label_meta_keys"
      ],
      "metadata": {
        "colab": {
          "base_uri": "https://localhost:8080/"
        },
        "id": "LbksDwhnl4i_",
        "outputId": "6e3b7dd1-79ba-44bc-a0b8-4857ca684be8"
      },
      "id": "LbksDwhnl4i_",
      "execution_count": 9,
      "outputs": [
        {
          "output_type": "execute_result",
          "data": {
            "text/plain": [
              "dict_keys([b'fine_label_names', b'coarse_label_names', b'label_map'])"
            ]
          },
          "metadata": {},
          "execution_count": 9
        }
      ]
    },
    {
      "cell_type": "markdown",
      "source": [
        "### Dataset Classes:"
      ],
      "metadata": {
        "id": "kCKCBsXKxEqI"
      },
      "id": "kCKCBsXKxEqI"
    },
    {
      "cell_type": "code",
      "source": [
        "# this are the labels we will be using. \n",
        "fine_label_names = [label.decode(\"utf-8\") for label in label_meta[b'fine_label_names']]\n",
        "len(fine_label_names)"
      ],
      "metadata": {
        "colab": {
          "base_uri": "https://localhost:8080/"
        },
        "id": "CFsQBzh_yFNW",
        "outputId": "e162ab91-c6be-4c29-b5e3-375e1e732147"
      },
      "id": "CFsQBzh_yFNW",
      "execution_count": 10,
      "outputs": [
        {
          "output_type": "execute_result",
          "data": {
            "text/plain": [
              "100"
            ]
          },
          "metadata": {},
          "execution_count": 10
        }
      ]
    },
    {
      "cell_type": "code",
      "source": [
        "fine_label_names"
      ],
      "metadata": {
        "colab": {
          "base_uri": "https://localhost:8080/"
        },
        "id": "gMx8sg-KzoO8",
        "outputId": "960ae92d-b665-4053-d1f7-2a65664a440f"
      },
      "id": "gMx8sg-KzoO8",
      "execution_count": 11,
      "outputs": [
        {
          "output_type": "execute_result",
          "data": {
            "text/plain": [
              "['apple',\n",
              " 'aquarium_fish',\n",
              " 'baby',\n",
              " 'bear',\n",
              " 'beaver',\n",
              " 'bed',\n",
              " 'bee',\n",
              " 'beetle',\n",
              " 'bicycle',\n",
              " 'bottle',\n",
              " 'bowl',\n",
              " 'boy',\n",
              " 'bridge',\n",
              " 'bus',\n",
              " 'butterfly',\n",
              " 'camel',\n",
              " 'can',\n",
              " 'castle',\n",
              " 'caterpillar',\n",
              " 'cattle',\n",
              " 'chair',\n",
              " 'chimpanzee',\n",
              " 'clock',\n",
              " 'cloud',\n",
              " 'cockroach',\n",
              " 'couch',\n",
              " 'crab',\n",
              " 'crocodile',\n",
              " 'cup',\n",
              " 'dinosaur',\n",
              " 'dolphin',\n",
              " 'elephant',\n",
              " 'flatfish',\n",
              " 'forest',\n",
              " 'fox',\n",
              " 'girl',\n",
              " 'hamster',\n",
              " 'house',\n",
              " 'kangaroo',\n",
              " 'keyboard',\n",
              " 'lamp',\n",
              " 'lawn_mower',\n",
              " 'leopard',\n",
              " 'lion',\n",
              " 'lizard',\n",
              " 'lobster',\n",
              " 'man',\n",
              " 'maple_tree',\n",
              " 'motorcycle',\n",
              " 'mountain',\n",
              " 'mouse',\n",
              " 'mushroom',\n",
              " 'oak_tree',\n",
              " 'orange',\n",
              " 'orchid',\n",
              " 'otter',\n",
              " 'palm_tree',\n",
              " 'pear',\n",
              " 'pickup_truck',\n",
              " 'pine_tree',\n",
              " 'plain',\n",
              " 'plate',\n",
              " 'poppy',\n",
              " 'porcupine',\n",
              " 'possum',\n",
              " 'rabbit',\n",
              " 'raccoon',\n",
              " 'ray',\n",
              " 'road',\n",
              " 'rocket',\n",
              " 'rose',\n",
              " 'sea',\n",
              " 'seal',\n",
              " 'shark',\n",
              " 'shrew',\n",
              " 'skunk',\n",
              " 'skyscraper',\n",
              " 'snail',\n",
              " 'snake',\n",
              " 'spider',\n",
              " 'squirrel',\n",
              " 'streetcar',\n",
              " 'sunflower',\n",
              " 'sweet_pepper',\n",
              " 'table',\n",
              " 'tank',\n",
              " 'telephone',\n",
              " 'television',\n",
              " 'tiger',\n",
              " 'tractor',\n",
              " 'train',\n",
              " 'trout',\n",
              " 'tulip',\n",
              " 'turtle',\n",
              " 'wardrobe',\n",
              " 'whale',\n",
              " 'willow_tree',\n",
              " 'wolf',\n",
              " 'woman',\n",
              " 'worm']"
            ]
          },
          "metadata": {},
          "execution_count": 11
        }
      ]
    },
    {
      "cell_type": "markdown",
      "source": [
        "### Important Information\n",
        "It seems the test data are an extract from the [CIFAR 100 Dataset](https://gist.github.com/NeuralNetworkingTechnologies/bf458b4607d327a5eb86a646c4f4d589)"
      ],
      "metadata": {
        "id": "ujnAfO2wqpvG"
      },
      "id": "ujnAfO2wqpvG"
    },
    {
      "cell_type": "code",
      "source": [
        "label_meta_values"
      ],
      "metadata": {
        "colab": {
          "base_uri": "https://localhost:8080/"
        },
        "id": "13BTsrnZl_qe",
        "outputId": "750855f5-ead0-47c7-c4a2-7345f0da42aa"
      },
      "id": "13BTsrnZl_qe",
      "execution_count": 12,
      "outputs": [
        {
          "output_type": "execute_result",
          "data": {
            "text/plain": [
              "dict_values([[b'apple', b'aquarium_fish', b'baby', b'bear', b'beaver', b'bed', b'bee', b'beetle', b'bicycle', b'bottle', b'bowl', b'boy', b'bridge', b'bus', b'butterfly', b'camel', b'can', b'castle', b'caterpillar', b'cattle', b'chair', b'chimpanzee', b'clock', b'cloud', b'cockroach', b'couch', b'crab', b'crocodile', b'cup', b'dinosaur', b'dolphin', b'elephant', b'flatfish', b'forest', b'fox', b'girl', b'hamster', b'house', b'kangaroo', b'keyboard', b'lamp', b'lawn_mower', b'leopard', b'lion', b'lizard', b'lobster', b'man', b'maple_tree', b'motorcycle', b'mountain', b'mouse', b'mushroom', b'oak_tree', b'orange', b'orchid', b'otter', b'palm_tree', b'pear', b'pickup_truck', b'pine_tree', b'plain', b'plate', b'poppy', b'porcupine', b'possum', b'rabbit', b'raccoon', b'ray', b'road', b'rocket', b'rose', b'sea', b'seal', b'shark', b'shrew', b'skunk', b'skyscraper', b'snail', b'snake', b'spider', b'squirrel', b'streetcar', b'sunflower', b'sweet_pepper', b'table', b'tank', b'telephone', b'television', b'tiger', b'tractor', b'train', b'trout', b'tulip', b'turtle', b'wardrobe', b'whale', b'willow_tree', b'wolf', b'woman', b'worm'], [b'aquatic_mammals', b'fish', b'flowers', b'food_containers', b'fruit_and_vegetables', b'household_electrical_devices', b'household_furniture', b'insects', b'large_carnivores', b'large_man-made_outdoor_things', b'large_natural_outdoor_scenes', b'large_omnivores_and_herbivores', b'medium_mammals', b'non-insect_invertebrates', b'people', b'reptiles', b'small_mammals', b'trees', b'vehicles_1', b'vehicles_2'], {b'aquatic_mammals': [b'beaver', b'dolphin', b'otter', b'seal', b'whale'], b'fish': [b'aquarium_fish', b'flatfish', b'ray', b'shark', b'trout'], b'flowers': [b'orchid', b'poppy', b'rose', b'sunflower', b'tulip'], b'food_containers': [b'bottle', b'bowl', b'can', b'cup', b'plate'], b'fruit_and_vegetables': [b'apple', b'mushroom', b'orange', b'pear', b'sweet_pepper'], b'household_electrical_devices': [b'clock', b'keyboard', b'lamp', b'telephone', b'television'], b'household_furniture': [b'bed', b'chair', b'couch', b'table', b'wardrobe'], b'insects': [b'bee', b'beetle', b'butterfly', b'caterpillar', b'cockroach'], b'large_carnivores': [b'bear', b'leopard', b'lion', b'tiger', b'wolf'], b'large_man-made_outdoor_things': [b'bridge', b'castle', b'house', b'road', b'skyscraper'], b'large_natural_outdoor_scenes': [b'cloud', b'forest', b'mountain', b'plain', b'sea'], b'large_omnivores_and_herbivores': [b'camel', b'cattle', b'chimpanzee', b'elephant', b'kangaroo'], b'medium_mammals': [b'fox', b'porcupine', b'possum', b'raccoon', b'skunk'], b'non-insect_invertebrates': [b'crab', b'lobster', b'snail', b'spider', b'worm'], b'people': [b'baby', b'boy', b'girl', b'man', b'woman'], b'reptiles': [b'crocodile', b'dinosaur', b'lizard', b'snake', b'turtle'], b'small_mammals': [b'hamster', b'mouse', b'rabbit', b'shrew', b'squirrel'], b'trees': [b'maple_tree', b'oak_tree', b'palm_tree', b'pine_tree', b'willow_tree'], b'vehicles_1': [b'bicycle', b'bus', b'motorcycle', b'pickup_truck', b'train'], b'vehicles_2': [b'lawn_mower', b'rocket', b'streetcar', b'tank', b'tractor']}])"
            ]
          },
          "metadata": {},
          "execution_count": 12
        }
      ]
    },
    {
      "cell_type": "code",
      "source": [
        "len(label_meta_keys),len(label_meta_values)"
      ],
      "metadata": {
        "colab": {
          "base_uri": "https://localhost:8080/"
        },
        "id": "coB9S7sDl0vc",
        "outputId": "9eb215f6-b2c7-4881-9cfc-13e07d38a0f3"
      },
      "id": "coB9S7sDl0vc",
      "execution_count": 13,
      "outputs": [
        {
          "output_type": "execute_result",
          "data": {
            "text/plain": [
              "(3, 3)"
            ]
          },
          "metadata": {},
          "execution_count": 13
        }
      ]
    },
    {
      "cell_type": "markdown",
      "source": [
        "# Create Custom Dataset\n",
        "\n"
      ],
      "metadata": {
        "id": "N96PUm9RnWbY"
      },
      "id": "N96PUm9RnWbY"
    },
    {
      "cell_type": "code",
      "source": [
        "# test_file path\n",
        "test_path =  image_path\n",
        "test_path"
      ],
      "metadata": {
        "id": "qiYii0eGnYT0",
        "colab": {
          "base_uri": "https://localhost:8080/"
        },
        "outputId": "defe674e-1129-4b1b-9486-fddb46feb131"
      },
      "id": "qiYii0eGnYT0",
      "execution_count": 14,
      "outputs": [
        {
          "output_type": "execute_result",
          "data": {
            "text/plain": [
              "PosixPath('data/x_test')"
            ]
          },
          "metadata": {},
          "execution_count": 14
        }
      ]
    },
    {
      "cell_type": "code",
      "source": [
        "# returns the list of class names and a dictionary that maps each class name to a specific index\n",
        "def find_classes(label_names):\n",
        "  return label_names,{class_name:i for i,class_name in enumerate(label_names)}"
      ],
      "metadata": {
        "id": "55htrnQQpBcs"
      },
      "id": "55htrnQQpBcs",
      "execution_count": 15,
      "outputs": []
    },
    {
      "cell_type": "code",
      "source": [
        "# preprocessing data transform proposed by the challenge\n",
        "preprocess = transforms.Compose([\n",
        "    transforms.ToTensor(),\n",
        "    transforms.Normalize(mean=[0.485, 0.456, 0.406], std=[0.229, 0.224, 0.225]),\n",
        "])"
      ],
      "metadata": {
        "id": "ZASoBYT0ljwb"
      },
      "id": "ZASoBYT0ljwb",
      "execution_count": 16,
      "outputs": []
    },
    {
      "cell_type": "code",
      "source": [
        "def get_image_paths(target_path,sort = True):\n",
        "  img_list = list(Path(target_path).glob(\"*/*.jpg\"))\n",
        "  if sorted:\n",
        "    img_list = sorted(img_list,key = lambda x : int(str(x).split(\"/\")[-1].split(\".\")[0]))\n",
        "  return img_list"
      ],
      "metadata": {
        "id": "53sU6DmxyumJ"
      },
      "id": "53sU6DmxyumJ",
      "execution_count": 17,
      "outputs": []
    },
    {
      "cell_type": "code",
      "source": [
        "from torch.nn.modules.distance import PairwiseDistance\n",
        "# custom dataset\n",
        "class EarthVisionDataset(Dataset):\n",
        "  def __init__(self,target_dir,transform = preprocess,sort_img_paths = True,label_names = fine_label_names):\n",
        "    # fetch all the image paths\n",
        "    self.img_paths = get_image_paths(target_dir,sort_img_paths)\n",
        "    # setup transform\n",
        "    self.transform = transform\n",
        "    # create classes and class_to_idx\n",
        "    self.classes,self.class_to_idx = find_classes(label_names)\n",
        "  \n",
        "  # load and image\n",
        "  def load_image(self,index):\n",
        "    image_path = self.img_paths[index]\n",
        "    return Image.open(image_path)\n",
        "  \n",
        "  # essential overwrites\n",
        "  def __len__(self):\n",
        "    return len(self.img_paths)\n",
        "\n",
        "  def __getitem__(self,index):\n",
        "    img = self.load_image(index)\n",
        "    return self.transform(img)"
      ],
      "metadata": {
        "id": "S6phA6LXyJxd"
      },
      "id": "S6phA6LXyJxd",
      "execution_count": 18,
      "outputs": []
    },
    {
      "cell_type": "code",
      "source": [
        "# instance custom dataset\n",
        "test_dataset = EarthVisionDataset(test_path)"
      ],
      "metadata": {
        "id": "fZpnd68i4Nnj"
      },
      "id": "fZpnd68i4Nnj",
      "execution_count": 19,
      "outputs": []
    },
    {
      "cell_type": "code",
      "source": [
        "test_dataset.__len__()"
      ],
      "metadata": {
        "colab": {
          "base_uri": "https://localhost:8080/"
        },
        "id": "Ee-_yHvL4s2f",
        "outputId": "04cc8062-7912-4503-e6c3-beb073bfe68a"
      },
      "id": "Ee-_yHvL4s2f",
      "execution_count": 20,
      "outputs": [
        {
          "output_type": "execute_result",
          "data": {
            "text/plain": [
              "8192"
            ]
          },
          "metadata": {},
          "execution_count": 20
        }
      ]
    },
    {
      "cell_type": "code",
      "source": [
        "test_dataset.classes[:10]"
      ],
      "metadata": {
        "colab": {
          "base_uri": "https://localhost:8080/"
        },
        "id": "RBcaB3dl41kh",
        "outputId": "c5cdca79-f1e7-4332-f43b-e57316b708bb"
      },
      "id": "RBcaB3dl41kh",
      "execution_count": 21,
      "outputs": [
        {
          "output_type": "execute_result",
          "data": {
            "text/plain": [
              "['apple',\n",
              " 'aquarium_fish',\n",
              " 'baby',\n",
              " 'bear',\n",
              " 'beaver',\n",
              " 'bed',\n",
              " 'bee',\n",
              " 'beetle',\n",
              " 'bicycle',\n",
              " 'bottle']"
            ]
          },
          "metadata": {},
          "execution_count": 21
        }
      ]
    },
    {
      "cell_type": "code",
      "source": [
        "test_dataset.img_paths[:10]"
      ],
      "metadata": {
        "colab": {
          "base_uri": "https://localhost:8080/"
        },
        "id": "F9VSGPpc5H7T",
        "outputId": "a5fb9697-69b4-4d24-fb13-3137e553cfa6"
      },
      "id": "F9VSGPpc5H7T",
      "execution_count": 22,
      "outputs": [
        {
          "output_type": "execute_result",
          "data": {
            "text/plain": [
              "[PosixPath('data/x_test/test_X/0.jpg'),\n",
              " PosixPath('data/x_test/test_X/1.jpg'),\n",
              " PosixPath('data/x_test/test_X/2.jpg'),\n",
              " PosixPath('data/x_test/test_X/3.jpg'),\n",
              " PosixPath('data/x_test/test_X/4.jpg'),\n",
              " PosixPath('data/x_test/test_X/5.jpg'),\n",
              " PosixPath('data/x_test/test_X/6.jpg'),\n",
              " PosixPath('data/x_test/test_X/7.jpg'),\n",
              " PosixPath('data/x_test/test_X/8.jpg'),\n",
              " PosixPath('data/x_test/test_X/9.jpg')]"
            ]
          },
          "metadata": {},
          "execution_count": 22
        }
      ]
    },
    {
      "cell_type": "markdown",
      "source": [
        "# Instance Dataloader"
      ],
      "metadata": {
        "id": "cD7j5Hbu5-Jk"
      },
      "id": "cD7j5Hbu5-Jk"
    },
    {
      "cell_type": "code",
      "source": [
        "BATCH_SIZE = 32\n",
        "NUM_WORKERS = os.cpu_count()\n",
        "test_dataloader = DataLoader(\n",
        "    dataset = test_dataset, \n",
        "    batch_size = BATCH_SIZE, \n",
        "    num_workers=NUM_WORKERS,\n",
        "    shuffle = False\n",
        "    )\n",
        "\n"
      ],
      "metadata": {
        "id": "q6SF5S-K6AKE"
      },
      "id": "q6SF5S-K6AKE",
      "execution_count": 23,
      "outputs": []
    },
    {
      "cell_type": "code",
      "source": [
        "next(iter(test_dataloader)).shape"
      ],
      "metadata": {
        "colab": {
          "base_uri": "https://localhost:8080/"
        },
        "id": "1vgpXYTQ8D57",
        "outputId": "26455b0e-cc3a-4183-9b43-e87b05249981"
      },
      "id": "1vgpXYTQ8D57",
      "execution_count": 24,
      "outputs": [
        {
          "output_type": "execute_result",
          "data": {
            "text/plain": [
              "torch.Size([32, 3, 32, 32])"
            ]
          },
          "metadata": {},
          "execution_count": 24
        }
      ]
    },
    {
      "cell_type": "markdown",
      "source": [
        "# Testing the Model"
      ],
      "metadata": {
        "id": "dX4kFdvHlhkT"
      },
      "id": "dX4kFdvHlhkT"
    },
    {
      "cell_type": "code",
      "execution_count": 25,
      "metadata": {
        "id": "riB_1vWIW4ka",
        "colab": {
          "base_uri": "https://localhost:8080/"
        },
        "outputId": "0fa8fb28-1b01-43ac-ab60-d6932bcc08f1"
      },
      "outputs": [
        {
          "output_type": "execute_result",
          "data": {
            "text/plain": [
              "<All keys matched successfully>"
            ]
          },
          "metadata": {},
          "execution_count": 25
        }
      ],
      "source": [
        "model = EarthVisionModel()\n",
        "model.load_state_dict(torch.load(f=model_weights_path))"
      ],
      "id": "riB_1vWIW4ka"
    },
    {
      "cell_type": "code",
      "source": [
        "summary(model,input_size=list(next(iter(test_dataloader)).shape))"
      ],
      "metadata": {
        "colab": {
          "base_uri": "https://localhost:8080/"
        },
        "id": "5KypYRNnj7-4",
        "outputId": "a661668d-d256-4413-ce93-d8961a63772f"
      },
      "id": "5KypYRNnj7-4",
      "execution_count": 26,
      "outputs": [
        {
          "output_type": "execute_result",
          "data": {
            "text/plain": [
              "===============================================================================================\n",
              "Layer (type:depth-idx)                        Output Shape              Param #\n",
              "===============================================================================================\n",
              "MobileNetV2                                   [32, 100]                 --\n",
              "├─Sequential: 1-1                             [32, 1792, 4, 4]          --\n",
              "│    └─ConvBNActivation: 2-1                  [32, 48, 32, 32]          --\n",
              "│    │    └─Conv2d: 3-1                       [32, 48, 32, 32]          1,296\n",
              "│    │    └─BatchNorm2d: 3-2                  [32, 48, 32, 32]          96\n",
              "│    │    └─ReLU6: 3-3                        [32, 48, 32, 32]          --\n",
              "│    └─InvertedResidual: 2-2                  [32, 24, 32, 32]          --\n",
              "│    │    └─Sequential: 3-4                   [32, 24, 32, 32]          1,728\n",
              "│    └─InvertedResidual: 2-3                  [32, 32, 32, 32]          --\n",
              "│    │    └─Sequential: 3-5                   [32, 32, 32, 32]          10,000\n",
              "│    └─InvertedResidual: 2-4                  [32, 32, 32, 32]          --\n",
              "│    │    └─Sequential: 3-6                   [32, 32, 32, 32]          14,848\n",
              "│    └─InvertedResidual: 2-5                  [32, 48, 16, 16]          --\n",
              "│    │    └─Sequential: 3-7                   [32, 48, 16, 16]          17,952\n",
              "│    └─InvertedResidual: 2-6                  [32, 48, 16, 16]          --\n",
              "│    │    └─Sequential: 3-8                   [32, 48, 16, 16]          31,488\n",
              "│    └─InvertedResidual: 2-7                  [32, 48, 16, 16]          --\n",
              "│    │    └─Sequential: 3-9                   [32, 48, 16, 16]          31,488\n",
              "│    └─InvertedResidual: 2-8                  [32, 88, 8, 8]            --\n",
              "│    │    └─Sequential: 3-10                  [32, 88, 8, 8]            43,088\n",
              "│    └─InvertedResidual: 2-9                  [32, 88, 8, 8]            --\n",
              "│    │    └─Sequential: 3-11                  [32, 88, 8, 8]            99,968\n",
              "│    └─InvertedResidual: 2-10                 [32, 88, 8, 8]            --\n",
              "│    │    └─Sequential: 3-12                  [32, 88, 8, 8]            99,968\n",
              "│    └─InvertedResidual: 2-11                 [32, 88, 8, 8]            --\n",
              "│    │    └─Sequential: 3-13                  [32, 88, 8, 8]            99,968\n",
              "│    └─InvertedResidual: 2-12                 [32, 136, 8, 8]           --\n",
              "│    │    └─Sequential: 3-14                  [32, 136, 8, 8]           125,408\n",
              "│    └─InvertedResidual: 2-13                 [32, 136, 8, 8]           --\n",
              "│    │    └─Sequential: 3-15                  [32, 136, 8, 8]           232,832\n",
              "│    └─InvertedResidual: 2-14                 [32, 136, 8, 8]           --\n",
              "│    │    └─Sequential: 3-16                  [32, 136, 8, 8]           232,832\n",
              "│    └─InvertedResidual: 2-15                 [32, 224, 4, 4]           --\n",
              "│    │    └─Sequential: 3-17                  [32, 224, 4, 4]           304,816\n",
              "│    └─InvertedResidual: 2-16                 [32, 224, 4, 4]           --\n",
              "│    │    └─Sequential: 3-18                  [32, 224, 4, 4]           620,032\n",
              "│    └─InvertedResidual: 2-17                 [32, 224, 4, 4]           --\n",
              "│    │    └─Sequential: 3-19                  [32, 224, 4, 4]           620,032\n",
              "│    └─InvertedResidual: 2-18                 [32, 448, 4, 4]           --\n",
              "│    │    └─Sequential: 3-20                  [32, 448, 4, 4]           921,536\n",
              "│    └─ConvBNActivation: 2-19                 [32, 1792, 4, 4]          --\n",
              "│    │    └─Conv2d: 3-21                      [32, 1792, 4, 4]          802,816\n",
              "│    │    └─BatchNorm2d: 3-22                 [32, 1792, 4, 4]          3,584\n",
              "│    │    └─ReLU6: 3-23                       [32, 1792, 4, 4]          --\n",
              "├─Sequential: 1-2                             [32, 100]                 --\n",
              "│    └─Dropout: 2-20                          [32, 1792]                --\n",
              "│    └─Linear: 2-21                           [32, 100]                 179,300\n",
              "===============================================================================================\n",
              "Total params: 4,495,076\n",
              "Trainable params: 4,495,076\n",
              "Non-trainable params: 0\n",
              "Total mult-adds (G): 5.45\n",
              "===============================================================================================\n",
              "Input size (MB): 0.39\n",
              "Forward/backward pass size (MB): 1185.31\n",
              "Params size (MB): 17.98\n",
              "Estimated Total Size (MB): 1203.68\n",
              "==============================================================================================="
            ]
          },
          "metadata": {},
          "execution_count": 26
        }
      ]
    },
    {
      "cell_type": "code",
      "source": [
        "# making predictions\n",
        "\n",
        "# tensor used to store the prediciton indexes\n",
        "prediction_indexes = torch.zeros((test_dataset.__len__()),dtype = torch.int32)\n",
        "\n",
        "# position placeholder\n",
        "position = 0\n",
        "\n",
        "model.eval()\n",
        "with torch.inference_mode():\n",
        "  # loop through the batches in the dataloader\n",
        "  for batch, X in enumerate(tqdm(test_dataloader)):\n",
        "    # forward pass\n",
        "    y_logits = model(X)\n",
        "    # predict labels\n",
        "    y_labels  = y_logits.argmax(dim = 1) \n",
        "    # update the tensor\n",
        "    prediction_indexes[position:position+BATCH_SIZE] += y_labels\n",
        "    position += BATCH_SIZE"
      ],
      "metadata": {
        "colab": {
          "base_uri": "https://localhost:8080/",
          "height": 49,
          "referenced_widgets": [
            "c743a9b5c97149d2bb7999a877730250",
            "20dbd295b790432f88d65bcd6784b895",
            "b6d56297421640f1b516c10b6efec6f8",
            "19cd5dac52e64fab9b815da57d6acafd",
            "99512ff61cd0449490dcdddd23de3275",
            "47f55cb6f42041b18716e823c4fb659e",
            "99868dbb58da400688949f77df43a178",
            "2cc5a16bdf99430fb91e5b07e5c474d3",
            "244164b67e0945dab7c0b6be24136b31",
            "f5865efef90b425b8e31360a22560af0",
            "c9065ec9344a47f198f48d7b169b9084"
          ]
        },
        "id": "VxPh7IYVG4FV",
        "outputId": "14a4c72f-bf3b-4a8e-fcb6-038c7b0183d1"
      },
      "id": "VxPh7IYVG4FV",
      "execution_count": 27,
      "outputs": [
        {
          "output_type": "display_data",
          "data": {
            "text/plain": [
              "  0%|          | 0/256 [00:00<?, ?it/s]"
            ],
            "application/vnd.jupyter.widget-view+json": {
              "version_major": 2,
              "version_minor": 0,
              "model_id": "c743a9b5c97149d2bb7999a877730250"
            }
          },
          "metadata": {}
        }
      ]
    },
    {
      "cell_type": "code",
      "source": [
        "prediction_indexes[:100]"
      ],
      "metadata": {
        "colab": {
          "base_uri": "https://localhost:8080/"
        },
        "id": "0O1lwUhDIw5X",
        "outputId": "04e60844-f42e-46c4-f62e-a82b53f71925"
      },
      "id": "0O1lwUhDIw5X",
      "execution_count": 28,
      "outputs": [
        {
          "output_type": "execute_result",
          "data": {
            "text/plain": [
              "tensor([12, 17,  9, 12, 17, 31, 17, 12, 17, 84, 33, 76, 12, 76, 68, 37, 76, 37,\n",
              "        37, 68,  5, 12, 12, 12, 37, 37, 37, 37, 37, 81, 37, 37, 17, 63, 76, 68,\n",
              "        17, 56, 76, 17, 76, 37, 33, 17, 17, 76, 17, 76, 12, 68, 37, 17, 17, 37,\n",
              "        84, 37, 76, 12, 81, 17, 68, 37, 12, 68, 37, 37, 12, 17, 12, 17, 12, 17,\n",
              "        12, 12, 12, 37, 68, 17, 69, 76, 97, 12, 12, 12, 76, 37, 37, 12, 76, 17,\n",
              "        37, 76, 68, 76, 37, 12, 17, 33, 37, 76], dtype=torch.int32)"
            ]
          },
          "metadata": {},
          "execution_count": 28
        }
      ]
    },
    {
      "cell_type": "markdown",
      "source": [
        "# Theory\n",
        "THere are 8192 images in the test dataset, and the flag image contains the same number of pixels. Since it is a grayscale image, we have to see how many images are classified with labels semantically related to \"person\" and set the flag's pixel values accordingly. <br/>\n",
        "- person: 255\n",
        "- other: 0\n",
        "### Ideas\n",
        "- Custom Dataset\n",
        "- Dataloader\n",
        "- Evaluate\n",
        "- Predict\n",
        "- torch.reshape((32,100))\n",
        "\n",
        "### Person classes\n",
        "- 2\n",
        "- 11\n",
        "- 35\n",
        "- 46\n",
        "- 98"
      ],
      "metadata": {
        "id": "XrTMih1cxyZU"
      },
      "id": "XrTMih1cxyZU"
    },
    {
      "cell_type": "code",
      "source": [
        "test_dataset.class_to_idx"
      ],
      "metadata": {
        "colab": {
          "base_uri": "https://localhost:8080/"
        },
        "id": "s077N7JdKwrg",
        "outputId": "57e01798-d356-48bb-e888-031fef802209"
      },
      "id": "s077N7JdKwrg",
      "execution_count": 29,
      "outputs": [
        {
          "output_type": "execute_result",
          "data": {
            "text/plain": [
              "{'apple': 0,\n",
              " 'aquarium_fish': 1,\n",
              " 'baby': 2,\n",
              " 'bear': 3,\n",
              " 'beaver': 4,\n",
              " 'bed': 5,\n",
              " 'bee': 6,\n",
              " 'beetle': 7,\n",
              " 'bicycle': 8,\n",
              " 'bottle': 9,\n",
              " 'bowl': 10,\n",
              " 'boy': 11,\n",
              " 'bridge': 12,\n",
              " 'bus': 13,\n",
              " 'butterfly': 14,\n",
              " 'camel': 15,\n",
              " 'can': 16,\n",
              " 'castle': 17,\n",
              " 'caterpillar': 18,\n",
              " 'cattle': 19,\n",
              " 'chair': 20,\n",
              " 'chimpanzee': 21,\n",
              " 'clock': 22,\n",
              " 'cloud': 23,\n",
              " 'cockroach': 24,\n",
              " 'couch': 25,\n",
              " 'crab': 26,\n",
              " 'crocodile': 27,\n",
              " 'cup': 28,\n",
              " 'dinosaur': 29,\n",
              " 'dolphin': 30,\n",
              " 'elephant': 31,\n",
              " 'flatfish': 32,\n",
              " 'forest': 33,\n",
              " 'fox': 34,\n",
              " 'girl': 35,\n",
              " 'hamster': 36,\n",
              " 'house': 37,\n",
              " 'kangaroo': 38,\n",
              " 'keyboard': 39,\n",
              " 'lamp': 40,\n",
              " 'lawn_mower': 41,\n",
              " 'leopard': 42,\n",
              " 'lion': 43,\n",
              " 'lizard': 44,\n",
              " 'lobster': 45,\n",
              " 'man': 46,\n",
              " 'maple_tree': 47,\n",
              " 'motorcycle': 48,\n",
              " 'mountain': 49,\n",
              " 'mouse': 50,\n",
              " 'mushroom': 51,\n",
              " 'oak_tree': 52,\n",
              " 'orange': 53,\n",
              " 'orchid': 54,\n",
              " 'otter': 55,\n",
              " 'palm_tree': 56,\n",
              " 'pear': 57,\n",
              " 'pickup_truck': 58,\n",
              " 'pine_tree': 59,\n",
              " 'plain': 60,\n",
              " 'plate': 61,\n",
              " 'poppy': 62,\n",
              " 'porcupine': 63,\n",
              " 'possum': 64,\n",
              " 'rabbit': 65,\n",
              " 'raccoon': 66,\n",
              " 'ray': 67,\n",
              " 'road': 68,\n",
              " 'rocket': 69,\n",
              " 'rose': 70,\n",
              " 'sea': 71,\n",
              " 'seal': 72,\n",
              " 'shark': 73,\n",
              " 'shrew': 74,\n",
              " 'skunk': 75,\n",
              " 'skyscraper': 76,\n",
              " 'snail': 77,\n",
              " 'snake': 78,\n",
              " 'spider': 79,\n",
              " 'squirrel': 80,\n",
              " 'streetcar': 81,\n",
              " 'sunflower': 82,\n",
              " 'sweet_pepper': 83,\n",
              " 'table': 84,\n",
              " 'tank': 85,\n",
              " 'telephone': 86,\n",
              " 'television': 87,\n",
              " 'tiger': 88,\n",
              " 'tractor': 89,\n",
              " 'train': 90,\n",
              " 'trout': 91,\n",
              " 'tulip': 92,\n",
              " 'turtle': 93,\n",
              " 'wardrobe': 94,\n",
              " 'whale': 95,\n",
              " 'willow_tree': 96,\n",
              " 'wolf': 97,\n",
              " 'woman': 98,\n",
              " 'worm': 99}"
            ]
          },
          "metadata": {},
          "execution_count": 29
        }
      ]
    },
    {
      "cell_type": "code",
      "source": [
        "predictions_maleable = prediction_indexes.numpy()"
      ],
      "metadata": {
        "id": "wax1wNvfLIQ6"
      },
      "id": "wax1wNvfLIQ6",
      "execution_count": 30,
      "outputs": []
    },
    {
      "cell_type": "code",
      "source": [
        "predictions_maleable.shape,predictions_maleable.dtype"
      ],
      "metadata": {
        "colab": {
          "base_uri": "https://localhost:8080/"
        },
        "id": "OyQFUiBULVjT",
        "outputId": "302dbda0-7feb-492d-c5f8-80b2ce319925"
      },
      "id": "OyQFUiBULVjT",
      "execution_count": 31,
      "outputs": [
        {
          "output_type": "execute_result",
          "data": {
            "text/plain": [
              "((8192,), dtype('int32'))"
            ]
          },
          "metadata": {},
          "execution_count": 31
        }
      ]
    },
    {
      "cell_type": "code",
      "source": [
        "# indexes with \"persons\"\n",
        "person_indexes = [2,11,35,46,48,98]"
      ],
      "metadata": {
        "id": "bsoQeKMZMMHA"
      },
      "id": "bsoQeKMZMMHA",
      "execution_count": 32,
      "outputs": []
    },
    {
      "cell_type": "code",
      "source": [
        "grayscale = [255 if pred in person_indexes else 0 for pred in predictions_maleable]"
      ],
      "metadata": {
        "id": "HuytevmPLYe-"
      },
      "id": "HuytevmPLYe-",
      "execution_count": 33,
      "outputs": []
    },
    {
      "cell_type": "code",
      "source": [
        "grayscale_matrix = np.array(grayscale)"
      ],
      "metadata": {
        "id": "9AZi84ZxMd77"
      },
      "id": "9AZi84ZxMd77",
      "execution_count": 34,
      "outputs": []
    },
    {
      "cell_type": "code",
      "source": [
        "grayscale_matrix.shape"
      ],
      "metadata": {
        "colab": {
          "base_uri": "https://localhost:8080/"
        },
        "id": "pVlJg_cQMhrT",
        "outputId": "a6cc95f3-8d64-40af-95dc-6ac465448062"
      },
      "id": "pVlJg_cQMhrT",
      "execution_count": 35,
      "outputs": [
        {
          "output_type": "execute_result",
          "data": {
            "text/plain": [
              "(8192,)"
            ]
          },
          "metadata": {},
          "execution_count": 35
        }
      ]
    },
    {
      "cell_type": "code",
      "source": [
        "grayscale_matrix[:100]"
      ],
      "metadata": {
        "colab": {
          "base_uri": "https://localhost:8080/"
        },
        "id": "bG5WyvbrMk3i",
        "outputId": "6725db96-99e1-4a73-cc80-dcbbc8f94254"
      },
      "id": "bG5WyvbrMk3i",
      "execution_count": 36,
      "outputs": [
        {
          "output_type": "execute_result",
          "data": {
            "text/plain": [
              "array([0, 0, 0, 0, 0, 0, 0, 0, 0, 0, 0, 0, 0, 0, 0, 0, 0, 0, 0, 0, 0, 0,\n",
              "       0, 0, 0, 0, 0, 0, 0, 0, 0, 0, 0, 0, 0, 0, 0, 0, 0, 0, 0, 0, 0, 0,\n",
              "       0, 0, 0, 0, 0, 0, 0, 0, 0, 0, 0, 0, 0, 0, 0, 0, 0, 0, 0, 0, 0, 0,\n",
              "       0, 0, 0, 0, 0, 0, 0, 0, 0, 0, 0, 0, 0, 0, 0, 0, 0, 0, 0, 0, 0, 0,\n",
              "       0, 0, 0, 0, 0, 0, 0, 0, 0, 0, 0, 0])"
            ]
          },
          "metadata": {},
          "execution_count": 36
        }
      ]
    },
    {
      "cell_type": "code",
      "execution_count": 37,
      "metadata": {
        "id": "5U_gOo8lW4kc"
      },
      "outputs": [],
      "source": [
        "flag = np.zeros((32,256))"
      ],
      "id": "5U_gOo8lW4kc"
    },
    {
      "cell_type": "code",
      "source": [
        "grayscale_matrix = grayscale_matrix.copy().reshape(flag.shape)"
      ],
      "metadata": {
        "id": "2p-0Un18Mw7c"
      },
      "id": "2p-0Un18Mw7c",
      "execution_count": 38,
      "outputs": []
    },
    {
      "cell_type": "code",
      "source": [
        "32 * 256 "
      ],
      "metadata": {
        "colab": {
          "base_uri": "https://localhost:8080/"
        },
        "id": "qYqT_n2uxctG",
        "outputId": "4968c65d-e370-4e64-e3fe-16dee4f53a2e"
      },
      "id": "qYqT_n2uxctG",
      "execution_count": 39,
      "outputs": [
        {
          "output_type": "execute_result",
          "data": {
            "text/plain": [
              "8192"
            ]
          },
          "metadata": {},
          "execution_count": 39
        }
      ]
    },
    {
      "cell_type": "code",
      "source": [
        "flag += grayscale_matrix"
      ],
      "metadata": {
        "id": "wHl-mULmkvfe"
      },
      "id": "wHl-mULmkvfe",
      "execution_count": 40,
      "outputs": []
    },
    {
      "cell_type": "code",
      "execution_count": 41,
      "metadata": {
        "id": "Pq0YEBKAW4kf",
        "colab": {
          "base_uri": "https://localhost:8080/",
          "height": 93
        },
        "outputId": "8734564b-aebc-4897-c371-af983b2441b2"
      },
      "outputs": [
        {
          "output_type": "display_data",
          "data": {
            "text/plain": [
              "<Figure size 432x288 with 1 Axes>"
            ],
            "image/png": "[encoded data removed]"
          },
          "metadata": {
            "needs_background": "light"
          }
        }
      ],
      "source": [
        "plt.imshow(flag, cmap=\"gray\")\n",
        "plt.show()"
      ],
      "id": "Pq0YEBKAW4kf"
    }
  ],
  "metadata": {
    "kernelspec": {
      "display_name": "Python 3",
      "language": "python",
      "name": "python3"
    },
    "language_info": {
      "codemirror_mode": {
        "name": "ipython",
        "version": 3
      },
      "file_extension": ".py",
      "mimetype": "text/x-python",
      "name": "python",
      "nbconvert_exporter": "python",
      "pygments_lexer": "ipython3",
      "version": "3.6.13"
    },
    "colab": {
      "provenance": []
    },
    "widgets": {
      "application/vnd.jupyter.widget-state+json": {
        "c743a9b5c97149d2bb7999a877730250": {
          "model_module": "@jupyter-widgets/controls",
          "model_name": "HBoxModel",
          "model_module_version": "1.5.0",
          "state": {
            "_dom_classes": [],
            "_model_module": "@jupyter-widgets/controls",
            "_model_module_version": "1.5.0",
            "_model_name": "HBoxModel",
            "_view_count": null,
            "_view_module": "@jupyter-widgets/controls",
            "_view_module_version": "1.5.0",
            "_view_name": "HBoxView",
            "box_style": "",
            "children": [
              "IPY_MODEL_20dbd295b790432f88d65bcd6784b895",
              "IPY_MODEL_b6d56297421640f1b516c10b6efec6f8",
              "IPY_MODEL_19cd5dac52e64fab9b815da57d6acafd"
            ],
            "layout": "IPY_MODEL_99512ff61cd0449490dcdddd23de3275"
          }
        },
        "20dbd295b790432f88d65bcd6784b895": {
          "model_module": "@jupyter-widgets/controls",
          "model_name": "HTMLModel",
          "model_module_version": "1.5.0",
          "state": {
            "_dom_classes": [],
            "_model_module": "@jupyter-widgets/controls",
            "_model_module_version": "1.5.0",
            "_model_name": "HTMLModel",
            "_view_count": null,
            "_view_module": "@jupyter-widgets/controls",
            "_view_module_version": "1.5.0",
            "_view_name": "HTMLView",
            "description": "",
            "description_tooltip": null,
            "layout": "IPY_MODEL_47f55cb6f42041b18716e823c4fb659e",
            "placeholder": "​",
            "style": "IPY_MODEL_99868dbb58da400688949f77df43a178",
            "value": "100%"
          }
        },
        "b6d56297421640f1b516c10b6efec6f8": {
          "model_module": "@jupyter-widgets/controls",
          "model_name": "FloatProgressModel",
          "model_module_version": "1.5.0",
          "state": {
            "_dom_classes": [],
            "_model_module": "@jupyter-widgets/controls",
            "_model_module_version": "1.5.0",
            "_model_name": "FloatProgressModel",
            "_view_count": null,
            "_view_module": "@jupyter-widgets/controls",
            "_view_module_version": "1.5.0",
            "_view_name": "ProgressView",
            "bar_style": "success",
            "description": "",
            "description_tooltip": null,
            "layout": "IPY_MODEL_2cc5a16bdf99430fb91e5b07e5c474d3",
            "max": 256,
            "min": 0,
            "orientation": "horizontal",
            "style": "IPY_MODEL_244164b67e0945dab7c0b6be24136b31",
            "value": 256
          }
        },
        "19cd5dac52e64fab9b815da57d6acafd": {
          "model_module": "@jupyter-widgets/controls",
          "model_name": "HTMLModel",
          "model_module_version": "1.5.0",
          "state": {
            "_dom_classes": [],
            "_model_module": "@jupyter-widgets/controls",
            "_model_module_version": "1.5.0",
            "_model_name": "HTMLModel",
            "_view_count": null,
            "_view_module": "@jupyter-widgets/controls",
            "_view_module_version": "1.5.0",
            "_view_name": "HTMLView",
            "description": "",
            "description_tooltip": null,
            "layout": "IPY_MODEL_f5865efef90b425b8e31360a22560af0",
            "placeholder": "​",
            "style": "IPY_MODEL_c9065ec9344a47f198f48d7b169b9084",
            "value": " 256/256 [03:09&lt;00:00,  1.21it/s]"
          }
        },
        "99512ff61cd0449490dcdddd23de3275": {
          "model_module": "@jupyter-widgets/base",
          "model_name": "LayoutModel",
          "model_module_version": "1.2.0",
          "state": {
            "_model_module": "@jupyter-widgets/base",
            "_model_module_version": "1.2.0",
            "_model_name": "LayoutModel",
            "_view_count": null,
            "_view_module": "@jupyter-widgets/base",
            "_view_module_version": "1.2.0",
            "_view_name": "LayoutView",
            "align_content": null,
            "align_items": null,
            "align_self": null,
            "border": null,
            "bottom": null,
            "display": null,
            "flex": null,
            "flex_flow": null,
            "grid_area": null,
            "grid_auto_columns": null,
            "grid_auto_flow": null,
            "grid_auto_rows": null,
            "grid_column": null,
            "grid_gap": null,
            "grid_row": null,
            "grid_template_areas": null,
            "grid_template_columns": null,
            "grid_template_rows": null,
            "height": null,
            "justify_content": null,
            "justify_items": null,
            "left": null,
            "margin": null,
            "max_height": null,
            "max_width": null,
            "min_height": null,
            "min_width": null,
            "object_fit": null,
            "object_position": null,
            "order": null,
            "overflow": null,
            "overflow_x": null,
            "overflow_y": null,
            "padding": null,
            "right": null,
            "top": null,
            "visibility": null,
            "width": null
          }
        },
        "47f55cb6f42041b18716e823c4fb659e": {
          "model_module": "@jupyter-widgets/base",
          "model_name": "LayoutModel",
          "model_module_version": "1.2.0",
          "state": {
            "_model_module": "@jupyter-widgets/base",
            "_model_module_version": "1.2.0",
            "_model_name": "LayoutModel",
            "_view_count": null,
            "_view_module": "@jupyter-widgets/base",
            "_view_module_version": "1.2.0",
            "_view_name": "LayoutView",
            "align_content": null,
            "align_items": null,
            "align_self": null,
            "border": null,
            "bottom": null,
            "display": null,
            "flex": null,
            "flex_flow": null,
            "grid_area": null,
            "grid_auto_columns": null,
            "grid_auto_flow": null,
            "grid_auto_rows": null,
            "grid_column": null,
            "grid_gap": null,
            "grid_row": null,
            "grid_template_areas": null,
            "grid_template_columns": null,
            "grid_template_rows": null,
            "height": null,
            "justify_content": null,
            "justify_items": null,
            "left": null,
            "margin": null,
            "max_height": null,
            "max_width": null,
            "min_height": null,
            "min_width": null,
            "object_fit": null,
            "object_position": null,
            "order": null,
            "overflow": null,
            "overflow_x": null,
            "overflow_y": null,
            "padding": null,
            "right": null,
            "top": null,
            "visibility": null,
            "width": null
          }
        },
        "99868dbb58da400688949f77df43a178": {
          "model_module": "@jupyter-widgets/controls",
          "model_name": "DescriptionStyleModel",
          "model_module_version": "1.5.0",
          "state": {
            "_model_module": "@jupyter-widgets/controls",
            "_model_module_version": "1.5.0",
            "_model_name": "DescriptionStyleModel",
            "_view_count": null,
            "_view_module": "@jupyter-widgets/base",
            "_view_module_version": "1.2.0",
            "_view_name": "StyleView",
            "description_width": ""
          }
        },
        "2cc5a16bdf99430fb91e5b07e5c474d3": {
          "model_module": "@jupyter-widgets/base",
          "model_name": "LayoutModel",
          "model_module_version": "1.2.0",
          "state": {
            "_model_module": "@jupyter-widgets/base",
            "_model_module_version": "1.2.0",
            "_model_name": "LayoutModel",
            "_view_count": null,
            "_view_module": "@jupyter-widgets/base",
            "_view_module_version": "1.2.0",
            "_view_name": "LayoutView",
            "align_content": null,
            "align_items": null,
            "align_self": null,
            "border": null,
            "bottom": null,
            "display": null,
            "flex": null,
            "flex_flow": null,
            "grid_area": null,
            "grid_auto_columns": null,
            "grid_auto_flow": null,
            "grid_auto_rows": null,
            "grid_column": null,
            "grid_gap": null,
            "grid_row": null,
            "grid_template_areas": null,
            "grid_template_columns": null,
            "grid_template_rows": null,
            "height": null,
            "justify_content": null,
            "justify_items": null,
            "left": null,
            "margin": null,
            "max_height": null,
            "max_width": null,
            "min_height": null,
            "min_width": null,
            "object_fit": null,
            "object_position": null,
            "order": null,
            "overflow": null,
            "overflow_x": null,
            "overflow_y": null,
            "padding": null,
            "right": null,
            "top": null,
            "visibility": null,
            "width": null
          }
        },
        "244164b67e0945dab7c0b6be24136b31": {
          "model_module": "@jupyter-widgets/controls",
          "model_name": "ProgressStyleModel",
          "model_module_version": "1.5.0",
          "state": {
            "_model_module": "@jupyter-widgets/controls",
            "_model_module_version": "1.5.0",
            "_model_name": "ProgressStyleModel",
            "_view_count": null,
            "_view_module": "@jupyter-widgets/base",
            "_view_module_version": "1.2.0",
            "_view_name": "StyleView",
            "bar_color": null,
            "description_width": ""
          }
        },
        "f5865efef90b425b8e31360a22560af0": {
          "model_module": "@jupyter-widgets/base",
          "model_name": "LayoutModel",
          "model_module_version": "1.2.0",
          "state": {
            "_model_module": "@jupyter-widgets/base",
            "_model_module_version": "1.2.0",
            "_model_name": "LayoutModel",
            "_view_count": null,
            "_view_module": "@jupyter-widgets/base",
            "_view_module_version": "1.2.0",
            "_view_name": "LayoutView",
            "align_content": null,
            "align_items": null,
            "align_self": null,
            "border": null,
            "bottom": null,
            "display": null,
            "flex": null,
            "flex_flow": null,
            "grid_area": null,
            "grid_auto_columns": null,
            "grid_auto_flow": null,
            "grid_auto_rows": null,
            "grid_column": null,
            "grid_gap": null,
            "grid_row": null,
            "grid_template_areas": null,
            "grid_template_columns": null,
            "grid_template_rows": null,
            "height": null,
            "justify_content": null,
            "justify_items": null,
            "left": null,
            "margin": null,
            "max_height": null,
            "max_width": null,
            "min_height": null,
            "min_width": null,
            "object_fit": null,
            "object_position": null,
            "order": null,
            "overflow": null,
            "overflow_x": null,
            "overflow_y": null,
            "padding": null,
            "right": null,
            "top": null,
            "visibility": null,
            "width": null
          }
        },
        "c9065ec9344a47f198f48d7b169b9084": {
          "model_module": "@jupyter-widgets/controls",
          "model_name": "DescriptionStyleModel",
          "model_module_version": "1.5.0",
          "state": {
            "_model_module": "@jupyter-widgets/controls",
            "_model_module_version": "1.5.0",
            "_model_name": "DescriptionStyleModel",
            "_view_count": null,
            "_view_module": "@jupyter-widgets/base",
            "_view_module_version": "1.2.0",
            "_view_name": "StyleView",
            "description_width": ""
          }
        }
      }
    }
  },
  "nbformat": 4,
  "nbformat_minor": 5
}