{
  "nbformat": 4,
  "nbformat_minor": 0,
  "metadata": {
    "colab": {
      "provenance": []
    },
    "kernelspec": {
      "name": "python3",
      "display_name": "Python 3"
    },
    "language_info": {
      "name": "python"
    }
  },
  "cells": [
    {
      "cell_type": "code",
      "execution_count": 1,
      "metadata": {
        "id": "7jeNn2oLkN4w"
      },
      "outputs": [],
      "source": [
        "import pandas as pd\n",
        "import numpy as np\n",
        "import seaborn as sns\n",
        "import matplotlib.pyplot as plt\n",
        "import h5py\n",
        "import base64\n",
        "import requests\n",
        "from pathlib import Path\n",
        "import os\n",
        "from tensorflow.keras.models import load_model, Model,Sequential\n",
        "from tensorflow.keras.utils import plot_model"
      ]
    },
    {
      "cell_type": "markdown",
      "source": [
        "# Download:\n",
        "Here, we download the file from a github repository."
      ],
      "metadata": {
        "id": "Xw82C6Ops7Ok"
      }
    },
    {
      "cell_type": "code",
      "source": [
        "# download content\n",
        "directory = Path(\"modules\")\n",
        "filename = \"alien.h5\"\n",
        "file_path = directory / filename\n",
        "raw = \"https://github.com/Q-b1t/htbml/raw/main/MYSTERIOUS_LEARNING/alien.h5\"\n",
        "\n",
        "if not os.path.exists(directory):\n",
        "  os.makedirs(directory)\n",
        "\n",
        "if file_path.exists():\n",
        "  print(f\"File {filename} has already beed downloaded.\\nSkipping...\")\n",
        "else:\n",
        "  print(f\"Downloading {filename}...\")\n",
        "  request = requests.get(raw)\n",
        "  with open(file_path,\"wb\") as f:\n",
        "    f.write(request.content)"
      ],
      "metadata": {
        "colab": {
          "base_uri": "https://localhost:8080/"
        },
        "id": "9QczSXAKoLck",
        "outputId": "e8be6920-f0db-4ff6-f588-e3f43a573ccd"
      },
      "execution_count": 2,
      "outputs": [
        {
          "output_type": "stream",
          "name": "stdout",
          "text": [
            "File alien.h5 has already beed downloaded.\n",
            "Skipping...\n"
          ]
        }
      ]
    },
    {
      "cell_type": "markdown",
      "source": [
        "It was quite clear from the start this was a tensorflow model. However, i searched for possible hidden metadata that would've proved useful."
      ],
      "metadata": {
        "id": "IvEhC3JPtGDE"
      }
    },
    {
      "cell_type": "code",
      "source": [
        "with h5py.File(file_path,\"r\") as hdf:\n",
        "  ls= list(hdf.keys())\n",
        "  print(\"Datasets:\",ls)\n",
        "  model_weights = hdf.get('model_weights')\n",
        "  optimizer_weights = hdf.get(\"optimizer_weights\")\n",
        "  print(hdf.name)"
      ],
      "metadata": {
        "colab": {
          "base_uri": "https://localhost:8080/"
        },
        "id": "iVZygzXKm1SA",
        "outputId": "c9983c11-eca4-48d4-e94e-6fd818b4292f"
      },
      "execution_count": 3,
      "outputs": [
        {
          "output_type": "stream",
          "name": "stdout",
          "text": [
            "Datasets: ['model_weights', 'optimizer_weights']\n",
            "/\n"
          ]
        }
      ]
    },
    {
      "cell_type": "code",
      "source": [
        "model_weights"
      ],
      "metadata": {
        "colab": {
          "base_uri": "https://localhost:8080/"
        },
        "id": "tIHu2Ur5F8Fn",
        "outputId": "92e5df68-fe88-4519-abbc-7e7055746f8f"
      },
      "execution_count": 4,
      "outputs": [
        {
          "output_type": "execute_result",
          "data": {
            "text/plain": [
              "<Closed HDF5 group>"
            ]
          },
          "metadata": {},
          "execution_count": 4
        }
      ]
    },
    {
      "cell_type": "code",
      "source": [
        "optimizer_ds = np.array(optimizer_weights)\n",
        "model_ds = np.array(model_weights)"
      ],
      "metadata": {
        "id": "gjJmfzOOoKWd"
      },
      "execution_count": 5,
      "outputs": []
    },
    {
      "cell_type": "code",
      "source": [
        "# whatttt the hell??'\n",
        "optimizer_ds.shape,model_ds.shape"
      ],
      "metadata": {
        "colab": {
          "base_uri": "https://localhost:8080/"
        },
        "id": "Wk0OXBCZo3gY",
        "outputId": "00ececb0-4748-43f8-f683-87a7841513fc"
      },
      "execution_count": 6,
      "outputs": [
        {
          "output_type": "execute_result",
          "data": {
            "text/plain": [
              "((), ())"
            ]
          },
          "metadata": {},
          "execution_count": 6
        }
      ]
    },
    {
      "cell_type": "code",
      "source": [
        "hdf.close()"
      ],
      "metadata": {
        "id": "XvMkFLm-qqki"
      },
      "execution_count": 7,
      "outputs": []
    },
    {
      "cell_type": "markdown",
      "source": [
        "We load the model, see the summary and visualize it in different ways. In a nutshell, we are searching for useful stuff.\n",
        "\n"
      ],
      "metadata": {
        "id": "lyx4AqiHtGU3"
      }
    },
    {
      "cell_type": "code",
      "source": [
        "model = load_model(file_path,compile=True)"
      ],
      "metadata": {
        "colab": {
          "base_uri": "https://localhost:8080/"
        },
        "id": "lege1_89skPB",
        "outputId": "73c95cf3-ece7-405a-9314-426d2f7fb5e3"
      },
      "execution_count": 8,
      "outputs": [
        {
          "output_type": "stream",
          "name": "stdout",
          "text": [
            "SFRCe24wdF9zb\n"
          ]
        }
      ]
    },
    {
      "cell_type": "code",
      "source": [
        "model.get_metrics_result()"
      ],
      "metadata": {
        "colab": {
          "base_uri": "https://localhost:8080/"
        },
        "id": "jckRVXbfIfTt",
        "outputId": "fa50fb3b-b57a-496e-b24a-585e379aad63"
      },
      "execution_count": 9,
      "outputs": [
        {
          "output_type": "execute_result",
          "data": {
            "text/plain": [
              "{'loss': <tf.Tensor: shape=(), dtype=float32, numpy=0.0>,\n",
              " 'accuracy': <tf.Tensor: shape=(), dtype=float32, numpy=0.0>}"
            ]
          },
          "metadata": {},
          "execution_count": 9
        }
      ]
    },
    {
      "cell_type": "code",
      "source": [
        "model_json_string = model.to_json()\n",
        "model_json_string"
      ],
      "metadata": {
        "colab": {
          "base_uri": "https://localhost:8080/",
          "height": 157
        },
        "id": "tKEQLfezIrMr",
        "outputId": "b1ed14e6-170b-4db3-b768-884c7a5d9320"
      },
      "execution_count": 10,
      "outputs": [
        {
          "output_type": "execute_result",
          "data": {
            "text/plain": [
              "'{\"class_name\": \"Sequential\", \"config\": {\"name\": \"19oNHJkX3RvX3V\", \"layers\": [{\"class_name\": \"InputLayer\", \"config\": {\"batch_input_shape\": [null, 32, 32, 3], \"dtype\": \"float32\", \"sparse\": false, \"ragged\": false, \"name\": \"conv2d_3_input\"}}, {\"class_name\": \"Conv2D\", \"config\": {\"name\": \"conv2d_3\", \"trainable\": true, \"dtype\": \"float32\", \"batch_input_shape\": [null, 32, 32, 3], \"filters\": 32, \"kernel_size\": [3, 3], \"strides\": [1, 1], \"padding\": \"valid\", \"data_format\": \"channels_last\", \"dilation_rate\": [1, 1], \"groups\": 1, \"activation\": \"relu\", \"use_bias\": true, \"kernel_initializer\": {\"class_name\": \"GlorotUniform\", \"config\": {\"seed\": null}}, \"bias_initializer\": {\"class_name\": \"Zeros\", \"config\": {}}, \"kernel_regularizer\": null, \"bias_regularizer\": null, \"activity_regularizer\": null, \"kernel_constraint\": null, \"bias_constraint\": null}}, {\"class_name\": \"MaxPooling2D\", \"config\": {\"name\": \"max_pooling2d_2\", \"trainable\": true, \"dtype\": \"float32\", \"pool_size\": [2, 2], \"padding\": \"valid\", \"strides\": [2, 2], \"data_format\": \"channels_last\"}}, {\"class_name\": \"Conv2D\", \"config\": {\"name\": \"conv2d_4\", \"trainable\": true, \"dtype\": \"float32\", \"filters\": 64, \"kernel_size\": [3, 3], \"strides\": [1, 1], \"padding\": \"valid\", \"data_format\": \"channels_last\", \"dilation_rate\": [1, 1], \"groups\": 1, \"activation\": \"relu\", \"use_bias\": true, \"kernel_initializer\": {\"class_name\": \"GlorotUniform\", \"config\": {\"seed\": null}}, \"bias_initializer\": {\"class_name\": \"Zeros\", \"config\": {}}, \"kernel_regularizer\": null, \"bias_regularizer\": null, \"activity_regularizer\": null, \"kernel_constraint\": null, \"bias_constraint\": null}}, {\"class_name\": \"MaxPooling2D\", \"config\": {\"name\": \"max_pooling2d_3\", \"trainable\": true, \"dtype\": \"float32\", \"pool_size\": [2, 2], \"padding\": \"valid\", \"strides\": [2, 2], \"data_format\": \"channels_last\"}}, {\"class_name\": \"Conv2D\", \"config\": {\"name\": \"conv2d_5\", \"trainable\": true, \"dtype\": \"float32\", \"filters\": 64, \"kernel_size\": [3, 3], \"strides\": [1, 1], \"padding\": \"valid\", \"data_format\": \"channels_last\", \"dilation_rate\": [1, 1], \"groups\": 1, \"activation\": \"relu\", \"use_bias\": true, \"kernel_initializer\": {\"class_name\": \"GlorotUniform\", \"config\": {\"seed\": null}}, \"bias_initializer\": {\"class_name\": \"Zeros\", \"config\": {}}, \"kernel_regularizer\": null, \"bias_regularizer\": null, \"activity_regularizer\": null, \"kernel_constraint\": null, \"bias_constraint\": null}}, {\"class_name\": \"Lambda\", \"config\": {\"name\": \"uZDNyc3Q0bmR9\", \"trainable\": true, \"dtype\": \"float32\", \"function\": [\"4wEAAAAAAAAAAAAAAAEAAAABAAAAQwAAAHMEAAAAfABTACkBTqkAKQHaAXhyAQAAAHIBAAAAeh88\\\\naXB5dGhvbi1pbnB1dC0xMi02ZGI4ZTVhZTA2ZGE+2gg8bGFtYmRhPggAAADzAAAAAA==\\\\n\", null, null], \"function_type\": \"lambda\", \"module\": \"__main__\", \"output_shape\": null, \"output_shape_type\": \"raw\", \"output_shape_module\": null, \"arguments\": {}}}, {\"class_name\": \"Flatten\", \"config\": {\"name\": \"flatten_1\", \"trainable\": true, \"dtype\": \"float32\", \"data_format\": \"channels_last\"}}, {\"class_name\": \"Dense\", \"config\": {\"name\": \"dense_2\", \"trainable\": true, \"dtype\": \"float32\", \"units\": 64, \"activation\": \"relu\", \"use_bias\": true, \"kernel_initializer\": {\"class_name\": \"GlorotUniform\", \"config\": {\"seed\": null}}, \"bias_initializer\": {\"class_name\": \"Zeros\", \"config\": {}}, \"kernel_regularizer\": null, \"bias_regularizer\": null, \"activity_regularizer\": null, \"kernel_constraint\": null, \"bias_constraint\": null}}, {\"class_name\": \"Dense\", \"config\": {\"name\": \"dense_3\", \"trainable\": true, \"dtype\": \"float32\", \"units\": 10, \"activation\": \"linear\", \"use_bias\": true, \"kernel_initializer\": {\"class_name\": \"GlorotUniform\", \"config\": {\"seed\": null}}, \"bias_initializer\": {\"class_name\": \"Zeros\", \"config\": {}}, \"kernel_regularizer\": null, \"bias_regularizer\": null, \"activity_regularizer\": null, \"kernel_constraint\": null, \"bias_constraint\": null}}, {\"class_name\": \"Lambda\", \"config\": {\"name\": \"lambda_1\", \"trainable\": true, \"dtype\": \"float32\", \"function\": [\"4wEAAAAAAAAAAAAAAAEAAAACAAAAQwAAAHMMAAAAdABkAYMBAQB8AFMAKQJOWg1TRlJDZTI0d2RG\\\\nOXpiKQHaBXByaW50KQHaAXipAHIDAAAAeh88aXB5dGhvbi1pbnB1dC0xMS1kNTY5YzRhOTUyYjQ+\\\\n2gltYWxpY2lvdXMCAAAAcwQAAAAAAQgB\\\\n\", null, null], \"function_type\": \"lambda\", \"module\": \"__main__\", \"output_shape\": null, \"output_shape_type\": \"raw\", \"output_shape_module\": null, \"arguments\": {}}}]}, \"keras_version\": \"2.11.0\", \"backend\": \"tensorflow\"}'"
            ],
            "application/vnd.google.colaboratory.intrinsic+json": {
              "type": "string"
            }
          },
          "metadata": {},
          "execution_count": 10
        }
      ]
    },
    {
      "cell_type": "code",
      "source": [
        "plot_model(model)"
      ],
      "metadata": {
        "colab": {
          "base_uri": "https://localhost:8080/",
          "height": 1000
        },
        "id": "PD_i9WQ03gJH",
        "outputId": "10cd37d4-552e-4096-bccc-801fe47227c9"
      },
      "execution_count": 11,
      "outputs": [
        {
          "output_type": "execute_result",
          "data": {
            "image/png": "[encoded data removed]",
            "text/plain": [
              "<IPython.core.display.Image object>"
            ]
          },
          "metadata": {},
          "execution_count": 11
        }
      ]
    },
    {
      "cell_type": "code",
      "source": [
        "model.summary(expand_nested=True,show_trainable=True)"
      ],
      "metadata": {
        "colab": {
          "base_uri": "https://localhost:8080/"
        },
        "id": "OH1JF4rGsu8U",
        "outputId": "ff4e594e-c7b2-4d70-f172-01851d84d94e"
      },
      "execution_count": 12,
      "outputs": [
        {
          "output_type": "stream",
          "name": "stdout",
          "text": [
            "Model: \"19oNHJkX3RvX3V\"\n",
            "____________________________________________________________________________\n",
            " Layer (type)                Output Shape              Param #   Trainable  \n",
            "============================================================================\n",
            " conv2d_3 (Conv2D)           (None, 30, 30, 32)        896       Y          \n",
            "                                                                            \n",
            " max_pooling2d_2 (MaxPooling  (None, 15, 15, 32)       0         Y          \n",
            " 2D)                                                                        \n",
            "                                                                            \n",
            " conv2d_4 (Conv2D)           (None, 13, 13, 64)        18496     Y          \n",
            "                                                                            \n",
            " max_pooling2d_3 (MaxPooling  (None, 6, 6, 64)         0         Y          \n",
            " 2D)                                                                        \n",
            "                                                                            \n",
            " conv2d_5 (Conv2D)           (None, 4, 4, 64)          36928     Y          \n",
            "                                                                            \n",
            " uZDNyc3Q0bmR9 (Lambda)      (None, 4, 4, 64)          0         Y          \n",
            "                                                                            \n",
            " flatten_1 (Flatten)         (None, 1024)              0         Y          \n",
            "                                                                            \n",
            " dense_2 (Dense)             (None, 64)                65600     Y          \n",
            "                                                                            \n",
            " dense_3 (Dense)             (None, 10)                650       Y          \n",
            "                                                                            \n",
            " lambda_1 (Lambda)           (None, 10)                0         Y          \n",
            "                                                                            \n",
            "============================================================================\n",
            "Total params: 122,570\n",
            "Trainable params: 122,570\n",
            "Non-trainable params: 0\n",
            "____________________________________________________________________________\n"
          ]
        }
      ]
    },
    {
      "cell_type": "markdown",
      "source": [
        "What proved most useful is the lines at the model's name, the string that's displayed when loading the weights and compiling, and the fifth layer's name. They look like a 64 base encoding."
      ],
      "metadata": {
        "id": "bkqQh8TotuAA"
      }
    },
    {
      "cell_type": "code",
      "source": [
        "model_name = model.name\n",
        "layer_mysterious = model.layers[5].name\n",
        "stuff = \"SFRCe24wdF9zb\"\n",
        "stuff,model_name,layer_mysterious"
      ],
      "metadata": {
        "colab": {
          "base_uri": "https://localhost:8080/"
        },
        "id": "AZyHrY-AYUc1",
        "outputId": "b764d3e9-51fc-4183-a522-3710208fc2b8"
      },
      "execution_count": 13,
      "outputs": [
        {
          "output_type": "execute_result",
          "data": {
            "text/plain": [
              "('SFRCe24wdF9zb', '19oNHJkX3RvX3V', 'uZDNyc3Q0bmR9')"
            ]
          },
          "metadata": {},
          "execution_count": 13
        }
      ]
    },
    {
      "cell_type": "code",
      "source": [
        "cipher = stuff + model_name + layer_mysterious\n",
        "cipher"
      ],
      "metadata": {
        "colab": {
          "base_uri": "https://localhost:8080/",
          "height": 35
        },
        "id": "hP5YvDAxY2i_",
        "outputId": "f06aa455-f90d-4fdf-f3ed-1789395024ee"
      },
      "execution_count": 14,
      "outputs": [
        {
          "output_type": "execute_result",
          "data": {
            "text/plain": [
              "'SFRCe24wdF9zb19oNHJkX3RvX3VuZDNyc3Q0bmR9'"
            ],
            "application/vnd.google.colaboratory.intrinsic+json": {
              "type": "string"
            }
          },
          "metadata": {},
          "execution_count": 14
        }
      ]
    },
    {
      "cell_type": "code",
      "source": [
        "decoded_str = base64.b64decode(cipher).decode('utf-8')\n",
        "decoded_str"
      ],
      "metadata": {
        "colab": {
          "base_uri": "https://localhost:8080/",
          "height": 35
        },
        "id": "yfsvm9GrY8XC",
        "outputId": "8095873f-1924-4f52-a263-6434d8136928"
      },
      "execution_count": 15,
      "outputs": [
        {
          "output_type": "execute_result",
          "data": {
            "text/plain": [
              "'HTB{n0t_so_h4rd_to_und3rst4nd}'"
            ],
            "application/vnd.google.colaboratory.intrinsic+json": {
              "type": "string"
            }
          },
          "metadata": {},
          "execution_count": 15
        }
      ]
    }
  ]
}